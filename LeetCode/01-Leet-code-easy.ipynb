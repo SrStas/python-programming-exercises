{
 "cells": [
  {
   "cell_type": "code",
   "execution_count": 2,
   "metadata": {},
   "outputs": [
    {
     "name": "stdout",
     "output_type": "stream",
     "text": [
      "1\n",
      "6\n",
      "length of the array is:6\n",
      " new length of the array is:8\n",
      "8\n",
      "[[1.5 1.5]\n",
      " [1.5 1.5]\n",
      " [1.5 1.5]]\n",
      "[[2. 3. 4.]\n",
      " [2. 3. 4.]]\n"
     ]
    }
   ],
   "source": [
    "#empty array\n",
    "arr = []\n",
    "# with values\n",
    "arr = [1, \"eels\"]\n",
    "\n",
    "# get item by index (can be negative to access end of array)\n",
    "arr = [1,2,3,4,5,6]\n",
    "print (arr[0])\n",
    "print (arr[-1])\n",
    "\n",
    "length = len(arr)\n",
    "print (\"length of the array is:\" + str(length)  )\n",
    "arr.append(8)\n",
    "arr.insert(6, 7)\n",
    "length = len(arr)\n",
    "print (\" new length of the array is:\" + str(length)  )\n",
    "\n",
    "print (arr[-1])\n",
    "\n",
    "# for calculation \n",
    "import numpy as np\n",
    "a = np.ones((3,2)) # a 2D array with 3 rows, 2 columns filled with ones\n",
    "b = np.array([1,2,3]) # a 1D array\n",
    "c = np.linspace(2,3,100) # an array with 100 point between 2 and 3\n",
    "\n",
    "print (a*1.5) \n",
    "print ( a.T+b)"
   ]
  },
  {
   "cell_type": "markdown",
   "metadata": {},
   "source": [
    "First LeetCode solution"
   ]
  },
  {
   "cell_type": "code",
   "execution_count": 3,
   "metadata": {},
   "outputs": [],
   "source": [
    "def removeDuplicatesFromArray(nums):\n",
    "    resArray =[]\n",
    "    k = 0\n",
    "    dupCount=0\n",
    "    #for x in array:\n",
    "        #do something\n",
    "    #    break\n",
    "    #for i in range(len(array)):\n",
    "    #    print (array[i])\n",
    "        \n",
    "    for i in range(len(nums)):\n",
    "        if len(nums) == 1:\n",
    "            return 1\n",
    "        \n",
    "        if i == 0:\n",
    "            resArray.append(nums[i])\n",
    "        else:\n",
    "            if (nums[i-1] == nums[i]):\n",
    "                dupCount +=1\n",
    "            \n",
    "            else:\n",
    "                resArray.append(nums[i])\n",
    "                #print (str(dupCount))\n",
    "                dupCount = 0\n",
    "    k = len(resArray)    \n",
    "    for x in range(len(nums)-len(resArray)):\n",
    "        resArray.append('_')\n",
    "    nums = resArray\n",
    "    #print (nums)\n",
    "    return k, nums\n"
   ]
  },
  {
   "cell_type": "code",
   "execution_count": 4,
   "metadata": {},
   "outputs": [
    {
     "name": "stdout",
     "output_type": "stream",
     "text": [
      "2, nums = [1, 2, '_']\n"
     ]
    }
   ],
   "source": [
    "#nums = [0,0,0,1,1,1,2,2,2,2,3,3,4]\n",
    "nums = [1,1,2]\n",
    "#nums = [0,0,1,1,1,2,2,3,3,4]\n",
    "\n",
    "res = removeDuplicatesFromArray(nums)\n",
    "\n",
    "print (str(res[0])+\",\", \"nums = \"+ str(res[1]))"
   ]
  }
 ],
 "metadata": {
  "kernelspec": {
   "display_name": "Python 3",
   "language": "python",
   "name": "python3"
  },
  "language_info": {
   "codemirror_mode": {
    "name": "ipython",
    "version": 3
   },
   "file_extension": ".py",
   "mimetype": "text/x-python",
   "name": "python",
   "nbconvert_exporter": "python",
   "pygments_lexer": "ipython3",
   "version": "3.12.4"
  }
 },
 "nbformat": 4,
 "nbformat_minor": 2
}
